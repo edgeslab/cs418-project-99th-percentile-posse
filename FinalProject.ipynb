{
 "cells": [
  {
   "cell_type": "markdown",
   "metadata": {},
   "source": [
    "# Project Introduction"
   ]
  },
  {
   "cell_type": "markdown",
   "metadata": {},
   "source": [
    "The question that our group is trying to find the answer for is \"What is leading to the decline in cigarette use?\". We know that a decline is happening but we want to know why, that way this trend can continue. A couple of hypotheses that we have are that \"The rise of e-cigarette use is much larger than the rate of cigarettes not being used\" and \"Young adults are using e-cigarettes more than those who quit smoking\".\n",
    "\n",
    "The data that we are using is about the use of cigarettes and other types of tobacco throughout the years for different age groups and other demographics. This data comes from the website for the Centers of Disease Control and Prevention (cdc.gov). The data set that we are using contains data about risk factors of tobacco use in the U.S. from 2011-2017; it contains 33,451 rows and has information about tobacco use in each state categorized by race, gender, age, education level, and type of combustible used by %."
   ]
  },
  {
   "cell_type": "markdown",
   "metadata": {},
   "source": [
    "# Any Changes"
   ]
  },
  {
   "cell_type": "markdown",
   "metadata": {},
   "source": [
    "Our scope at the beginning of the project was to find the exact reasons for a lot less people smoking now compared to in previous years, but we realized that it will not be possible to do that in the time we have. So we are just sticking to seeing the percentages of demographics (mainly age) of people that have stopped smoking, switched from smoking to vaping, or simply started vaping throughout the years. In terms of our data, we originally were going to use two datasets but stuck with one of them since it had all of the information that we wanted."
   ]
  },
  {
   "cell_type": "code",
   "execution_count": null,
   "metadata": {},
   "outputs": [],
   "source": [
    "import pandas as pd\n",
    "import numpy as np\n",
    "import seaborn as sns\n",
    "%matplotlib inline\n",
    "import matplotlib.pyplot as plt\n",
    "import matplotlib.lines as mlines"
   ]
  },
  {
   "cell_type": "markdown",
   "metadata": {},
   "source": [
    "# Data Cleaning"
   ]
  },
  {
   "cell_type": "code",
   "execution_count": null,
   "metadata": {},
   "outputs": [],
   "source": [
    "tobacco_use = pd.read_csv('Behavioral_Risk_Factor_Data__Tobacco_Use__2011_to_present_.csv')\n",
    "\n",
    "tobacco_use = tobacco_use[tobacco_use.Data_Value_Footnote_Symbol != '*']\n",
    "#Removing rows from df which have a small sample size, denoted by '*' in the Data_Value_Footnote_Symbol column\n",
    "\n",
    "def drop_columns(tobacco_use): #Function to drop the columns that we do not need\n",
    "    return tobacco_use.drop(columns = ['LocationDesc', 'TopicType', 'Data_Value_Type', 'Data_Value_Std_Err', \n",
    "                                    'Low_Confidence_Limit', 'High_Confidence_Limit', 'GeoLocation', 'TopicId',\n",
    "                                    'MeasureId', 'StratificationID1', 'StratificationID2', 'StratificationID3',\n",
    "                                    'StratificationID4', 'SubMeasureID', 'DisplayOrder', 'DataSource',\n",
    "                                      'Data_Value_Footnote_Symbol', 'Data_Value_Footnote', 'TopicTypeId'])\n",
    "\n",
    "tu_df = (tobacco_use.pipe(drop_columns)) #Calling function to drop unneeded columns from df\n",
    "\n",
    "tu_df.head(10) #Display first 10 elements of the dataframe"
   ]
  },
  {
   "cell_type": "markdown",
   "metadata": {},
   "source": [
    "# Exploratory Data Analysis"
   ]
  },
  {
   "cell_type": "markdown",
   "metadata": {},
   "source": []
  },
  {
   "cell_type": "markdown",
   "metadata": {},
   "source": [
    "# Visualization"
   ]
  },
  {
   "cell_type": "markdown",
   "metadata": {},
   "source": []
  },
  {
   "cell_type": "markdown",
   "metadata": {},
   "source": [
    "# ML Analysis"
   ]
  },
  {
   "cell_type": "markdown",
   "metadata": {},
   "source": []
  },
  {
   "cell_type": "markdown",
   "metadata": {},
   "source": [
    "# Reflection"
   ]
  },
  {
   "cell_type": "markdown",
   "metadata": {},
   "source": []
  },
  {
   "cell_type": "markdown",
   "metadata": {},
   "source": [
    "# Next Steps"
   ]
  },
  {
   "cell_type": "markdown",
   "metadata": {},
   "source": []
  }
 ],
 "metadata": {
  "kernelspec": {
   "display_name": "Python 3",
   "language": "python",
   "name": "python3"
  },
  "language_info": {
   "codemirror_mode": {
    "name": "ipython",
    "version": 3
   },
   "file_extension": ".py",
   "mimetype": "text/x-python",
   "name": "python",
   "nbconvert_exporter": "python",
   "pygments_lexer": "ipython3",
   "version": "3.7.1"
  }
 },
 "nbformat": 4,
 "nbformat_minor": 2
}
