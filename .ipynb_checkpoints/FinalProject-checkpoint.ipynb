{
 "cells": [
  {
   "cell_type": "markdown",
   "metadata": {},
   "source": [
    "# Project Introduction"
   ]
  },
  {
   "cell_type": "markdown",
   "metadata": {},
   "source": [
    "The question that our group is trying to find the answer for is \"What is leading to the decline in cigarette use?\". We know that a decline is happening but we want to know why, that way this trend can continue. A couple of hypotheses that we have are that \"The rise of e-cigarette use is much larger than the rate of cigarettes not being used\" and \"Young adults are using e-cigarettes more than those who quit smoking\".\n",
    "\n",
    "The data that we are using is about the use of cigarettes and other types of tobacco throughout the years for different age groups and other demographics. This data comes from the website for the Centers of Disease Control and Prevention (cdc.gov). The data set that we are using contains data about risk factors of tobacco use in the U.S. from 2011-2017; it contains 33,451 rows and has information about tobacco use in each state categorized by race, gender, age, education level, and type of combustible used by %."
   ]
  },
  {
   "cell_type": "markdown",
   "metadata": {},
   "source": [
    "# Any Changes"
   ]
  },
  {
   "cell_type": "markdown",
   "metadata": {},
   "source": [
    "Our scope at the beginning of the project was to find the exact reasons for a lot less people smoking now compared to in previous years, but we realized that it will not be possible to do that in the time we have. So we are just sticking to seeing the percentages of demographics (mainly age) of people that have stopped smoking, switched from smoking to vaping, or simply started vaping throughout the years. In terms of our data, we originally were going to use two datasets but stuck with one of them since it had all of the information that we wanted."
   ]
  },
  {
   "cell_type": "code",
   "execution_count": 2,
   "metadata": {},
   "outputs": [],
   "source": [
    "import pandas as pd\n",
    "import numpy as np\n",
    "import seaborn as sns\n",
    "%matplotlib inline\n",
    "import matplotlib.pyplot as plt\n",
    "import matplotlib.lines as mlines"
   ]
  },
  {
   "cell_type": "markdown",
   "metadata": {},
   "source": [
    "# Data Cleaning"
   ]
  },
  {
   "cell_type": "code",
   "execution_count": 3,
   "metadata": {},
   "outputs": [
    {
     "name": "stderr",
     "output_type": "stream",
     "text": [
      "C:\\Users\\Iqra\\Anaconda3\\lib\\site-packages\\IPython\\core\\interactiveshell.py:3020: DtypeWarning: Columns (0) have mixed types. Specify dtype option on import or set low_memory=False.\n",
      "  interactivity=interactivity, compiler=compiler, result=result)\n"
     ]
    },
    {
     "data": {
      "text/html": [
       "<div>\n",
       "<style scoped>\n",
       "    .dataframe tbody tr th:only-of-type {\n",
       "        vertical-align: middle;\n",
       "    }\n",
       "\n",
       "    .dataframe tbody tr th {\n",
       "        vertical-align: top;\n",
       "    }\n",
       "\n",
       "    .dataframe thead th {\n",
       "        text-align: right;\n",
       "    }\n",
       "</style>\n",
       "<table border=\"1\" class=\"dataframe\">\n",
       "  <thead>\n",
       "    <tr style=\"text-align: right;\">\n",
       "      <th></th>\n",
       "      <th>YEAR</th>\n",
       "      <th>LocationAbbr</th>\n",
       "      <th>TopicDesc</th>\n",
       "      <th>MeasureDesc</th>\n",
       "      <th>Response</th>\n",
       "      <th>Data_Value_Unit</th>\n",
       "      <th>Data_Value</th>\n",
       "      <th>Sample_Size</th>\n",
       "      <th>Gender</th>\n",
       "      <th>Race</th>\n",
       "      <th>Age</th>\n",
       "      <th>Education</th>\n",
       "    </tr>\n",
       "  </thead>\n",
       "  <tbody>\n",
       "    <tr>\n",
       "      <th>0</th>\n",
       "      <td>2017</td>\n",
       "      <td>US</td>\n",
       "      <td>Smokeless Tobacco Use (Adults)</td>\n",
       "      <td>User Status</td>\n",
       "      <td>Current</td>\n",
       "      <td>%</td>\n",
       "      <td>4.0</td>\n",
       "      <td>NaN</td>\n",
       "      <td>Overall</td>\n",
       "      <td>All Races</td>\n",
       "      <td>All Ages</td>\n",
       "      <td>All Grades</td>\n",
       "    </tr>\n",
       "    <tr>\n",
       "      <th>1</th>\n",
       "      <td>2017</td>\n",
       "      <td>US</td>\n",
       "      <td>Smokeless Tobacco Use (Adults)</td>\n",
       "      <td>User Status</td>\n",
       "      <td>Not Current</td>\n",
       "      <td>%</td>\n",
       "      <td>96.0</td>\n",
       "      <td>NaN</td>\n",
       "      <td>Overall</td>\n",
       "      <td>All Races</td>\n",
       "      <td>All Ages</td>\n",
       "      <td>All Grades</td>\n",
       "    </tr>\n",
       "    <tr>\n",
       "      <th>2</th>\n",
       "      <td>2012</td>\n",
       "      <td>US</td>\n",
       "      <td>Cigarette Use (Adults)</td>\n",
       "      <td>Smoking Status</td>\n",
       "      <td>Former</td>\n",
       "      <td>%</td>\n",
       "      <td>25.2</td>\n",
       "      <td>NaN</td>\n",
       "      <td>Overall</td>\n",
       "      <td>All Races</td>\n",
       "      <td>All Ages</td>\n",
       "      <td>All Grades</td>\n",
       "    </tr>\n",
       "    <tr>\n",
       "      <th>3</th>\n",
       "      <td>2012</td>\n",
       "      <td>US</td>\n",
       "      <td>Cigarette Use (Adults)</td>\n",
       "      <td>Smoking Status</td>\n",
       "      <td>Never</td>\n",
       "      <td>%</td>\n",
       "      <td>54.4</td>\n",
       "      <td>NaN</td>\n",
       "      <td>Overall</td>\n",
       "      <td>All Races</td>\n",
       "      <td>All Ages</td>\n",
       "      <td>All Grades</td>\n",
       "    </tr>\n",
       "    <tr>\n",
       "      <th>4</th>\n",
       "      <td>2012</td>\n",
       "      <td>US</td>\n",
       "      <td>Smokeless Tobacco Use (Adults)</td>\n",
       "      <td>Current Use</td>\n",
       "      <td>NaN</td>\n",
       "      <td>%</td>\n",
       "      <td>4.1</td>\n",
       "      <td>NaN</td>\n",
       "      <td>Overall</td>\n",
       "      <td>All Races</td>\n",
       "      <td>All Ages</td>\n",
       "      <td>All Grades</td>\n",
       "    </tr>\n",
       "    <tr>\n",
       "      <th>5</th>\n",
       "      <td>2012</td>\n",
       "      <td>US</td>\n",
       "      <td>Smokeless Tobacco Use (Adults)</td>\n",
       "      <td>User Status</td>\n",
       "      <td>Current</td>\n",
       "      <td>%</td>\n",
       "      <td>4.1</td>\n",
       "      <td>NaN</td>\n",
       "      <td>Overall</td>\n",
       "      <td>All Races</td>\n",
       "      <td>All Ages</td>\n",
       "      <td>All Grades</td>\n",
       "    </tr>\n",
       "    <tr>\n",
       "      <th>6</th>\n",
       "      <td>2012</td>\n",
       "      <td>US</td>\n",
       "      <td>Smokeless Tobacco Use (Adults)</td>\n",
       "      <td>User Status</td>\n",
       "      <td>Not Current</td>\n",
       "      <td>%</td>\n",
       "      <td>95.9</td>\n",
       "      <td>NaN</td>\n",
       "      <td>Overall</td>\n",
       "      <td>All Races</td>\n",
       "      <td>All Ages</td>\n",
       "      <td>All Grades</td>\n",
       "    </tr>\n",
       "    <tr>\n",
       "      <th>15</th>\n",
       "      <td>2016</td>\n",
       "      <td>US</td>\n",
       "      <td>Cessation (Adults)</td>\n",
       "      <td>Percent of Former Smokers Among Ever Smokers</td>\n",
       "      <td>NaN</td>\n",
       "      <td>%</td>\n",
       "      <td>60.2</td>\n",
       "      <td>NaN</td>\n",
       "      <td>Overall</td>\n",
       "      <td>All Races</td>\n",
       "      <td>All Ages</td>\n",
       "      <td>All Grades</td>\n",
       "    </tr>\n",
       "    <tr>\n",
       "      <th>105</th>\n",
       "      <td>2017</td>\n",
       "      <td>AL</td>\n",
       "      <td>Cigarette Use (Adults)</td>\n",
       "      <td>Smoking Status</td>\n",
       "      <td>Current</td>\n",
       "      <td>%</td>\n",
       "      <td>23.4</td>\n",
       "      <td>2598.0</td>\n",
       "      <td>Male</td>\n",
       "      <td>All Races</td>\n",
       "      <td>All Ages</td>\n",
       "      <td>All Grades</td>\n",
       "    </tr>\n",
       "    <tr>\n",
       "      <th>158</th>\n",
       "      <td>2016</td>\n",
       "      <td>US</td>\n",
       "      <td>Cessation (Adults)</td>\n",
       "      <td>Quit Attempt in Past Year Among Every Day Ciga...</td>\n",
       "      <td>NaN</td>\n",
       "      <td>%</td>\n",
       "      <td>50.9</td>\n",
       "      <td>NaN</td>\n",
       "      <td>Overall</td>\n",
       "      <td>All Races</td>\n",
       "      <td>All Ages</td>\n",
       "      <td>All Grades</td>\n",
       "    </tr>\n",
       "  </tbody>\n",
       "</table>\n",
       "</div>"
      ],
      "text/plain": [
       "     YEAR LocationAbbr                       TopicDesc  \\\n",
       "0    2017           US  Smokeless Tobacco Use (Adults)   \n",
       "1    2017           US  Smokeless Tobacco Use (Adults)   \n",
       "2    2012           US          Cigarette Use (Adults)   \n",
       "3    2012           US          Cigarette Use (Adults)   \n",
       "4    2012           US  Smokeless Tobacco Use (Adults)   \n",
       "5    2012           US  Smokeless Tobacco Use (Adults)   \n",
       "6    2012           US  Smokeless Tobacco Use (Adults)   \n",
       "15   2016           US              Cessation (Adults)   \n",
       "105  2017           AL          Cigarette Use (Adults)   \n",
       "158  2016           US              Cessation (Adults)   \n",
       "\n",
       "                                           MeasureDesc     Response  \\\n",
       "0                                          User Status      Current   \n",
       "1                                          User Status  Not Current   \n",
       "2                                       Smoking Status       Former   \n",
       "3                                       Smoking Status        Never   \n",
       "4                                          Current Use          NaN   \n",
       "5                                          User Status      Current   \n",
       "6                                          User Status  Not Current   \n",
       "15        Percent of Former Smokers Among Ever Smokers          NaN   \n",
       "105                                     Smoking Status      Current   \n",
       "158  Quit Attempt in Past Year Among Every Day Ciga...          NaN   \n",
       "\n",
       "    Data_Value_Unit  Data_Value  Sample_Size   Gender       Race       Age  \\\n",
       "0                 %         4.0          NaN  Overall  All Races  All Ages   \n",
       "1                 %        96.0          NaN  Overall  All Races  All Ages   \n",
       "2                 %        25.2          NaN  Overall  All Races  All Ages   \n",
       "3                 %        54.4          NaN  Overall  All Races  All Ages   \n",
       "4                 %         4.1          NaN  Overall  All Races  All Ages   \n",
       "5                 %         4.1          NaN  Overall  All Races  All Ages   \n",
       "6                 %        95.9          NaN  Overall  All Races  All Ages   \n",
       "15                %        60.2          NaN  Overall  All Races  All Ages   \n",
       "105               %        23.4       2598.0     Male  All Races  All Ages   \n",
       "158               %        50.9          NaN  Overall  All Races  All Ages   \n",
       "\n",
       "      Education  \n",
       "0    All Grades  \n",
       "1    All Grades  \n",
       "2    All Grades  \n",
       "3    All Grades  \n",
       "4    All Grades  \n",
       "5    All Grades  \n",
       "6    All Grades  \n",
       "15   All Grades  \n",
       "105  All Grades  \n",
       "158  All Grades  "
      ]
     },
     "execution_count": 3,
     "metadata": {},
     "output_type": "execute_result"
    }
   ],
   "source": [
    "tobacco_use = pd.read_csv('Behavioral_Risk_Factor_Data__Tobacco_Use__2011_to_present_.csv')\n",
    "\n",
    "tobacco_use = tobacco_use[tobacco_use.Data_Value_Footnote_Symbol != '*']\n",
    "#Removing rows from df which have a small sample size, denoted by '*' in the Data_Value_Footnote_Symbol column\n",
    "\n",
    "tobacco_use = tobacco_use[tobacco_use.YEAR != '2011-2012']\n",
    "tobacco_use = tobacco_use[tobacco_use.YEAR != '2012-2013']\n",
    "tobacco_use = tobacco_use[tobacco_use.YEAR != '2013-2014']\n",
    "tobacco_use = tobacco_use[tobacco_use.YEAR != '2014-2015']\n",
    "tobacco_use = tobacco_use[tobacco_use.YEAR != '2015-2016']\n",
    "tobacco_use = tobacco_use[tobacco_use.YEAR != '2016-2017']\n",
    "tobacco_use = tobacco_use[tobacco_use.YEAR != 2011]\n",
    "\n",
    "def drop_columns(tobacco_use): #Function to drop the columns that we do not need\n",
    "    return tobacco_use.drop(columns = ['LocationDesc', 'TopicType', 'Data_Value_Type', 'Data_Value_Std_Err', \n",
    "                                    'Low_Confidence_Limit', 'High_Confidence_Limit', 'GeoLocation', 'TopicId',\n",
    "                                    'MeasureId', 'StratificationID1', 'StratificationID2', 'StratificationID3',\n",
    "                                    'StratificationID4', 'SubMeasureID', 'DisplayOrder', 'DataSource',\n",
    "                                      'Data_Value_Footnote_Symbol', 'Data_Value_Footnote', 'TopicTypeId'])\n",
    "\n",
    "tu_df = (tobacco_use.pipe(drop_columns)) #Calling function to drop unneeded columns from df\n",
    "\n",
    "tu_df.head(10) #Display first 10 elements of the dataframe"
   ]
  },
  {
   "cell_type": "markdown",
   "metadata": {},
   "source": [
    "# Exploratory Data Analysis"
   ]
  },
  {
   "cell_type": "code",
   "execution_count": 4,
   "metadata": {},
   "outputs": [
    {
     "name": "stderr",
     "output_type": "stream",
     "text": [
      "C:\\Users\\Iqra\\Anaconda3\\lib\\site-packages\\scipy\\stats\\stats.py:1713: FutureWarning: Using a non-tuple sequence for multidimensional indexing is deprecated; use `arr[tuple(seq)]` instead of `arr[seq]`. In the future this will be interpreted as an array index, `arr[np.array(seq)]`, which will result either in an error or a different result.\n",
      "  return np.add.reduce(sorted[indexer] * weights, axis=axis) / sumval\n"
     ]
    },
    {
     "data": {
      "text/plain": [
       "Text(0, 0.5, 'Percentage of Cigarette Smokers')"
      ]
     },
     "execution_count": 4,
     "metadata": {},
     "output_type": "execute_result"
    },
    {
     "data": {
      "image/png": "[encoded data removed]",
      "text/plain": [
       "<Figure size 432x288 with 1 Axes>"
      ]
     },
     "metadata": {
      "needs_background": "light"
     },
     "output_type": "display_data"
    }
   ],
   "source": [
    "tu_df = tobacco_use[tobacco_use.LocationAbbr != 'US']\n",
    "tu_df = tobacco_use[tobacco_use.Response != 'Former']\n",
    "tu_df = tobacco_use[tobacco_use.Response != 'Never']\n",
    "tu_df = tobacco_use[tobacco_use.TopicDesc == 'Cigarette Use (Adults)']\n",
    "tu_df.sort_values(by=['YEAR'])\n",
    "\n",
    "bars = sns.barplot(x='YEAR', y='Data_Value', data=tu_df)\n",
    "\n",
    "bars.set_title('Cigarette Use from 2011-2017')\n",
    "bars.set_xlabel('Year')\n",
    "bars.set_ylabel('Percentage of Cigarette Smokers')"
   ]
  },
  {
   "cell_type": "markdown",
   "metadata": {},
   "source": [
    "Our data is tabular and contained within .csv files. After some data cleaning, our data has a rectangular structure containing both quantitative and categorical data. It is relatively granular, with some categories such as education and gender able to possibly be further granulized. Also, the scope of our data is relevant to us and is not too expansive since we are concerned with cigarette usage within the US. Our data is relatively faithful, however there are columns in which there are missing/default values."
   ]
  },
  {
   "cell_type": "markdown",
   "metadata": {},
   "source": [
    "# Visualization"
   ]
  },
  {
   "cell_type": "code",
   "execution_count": 6,
   "metadata": {},
   "outputs": [
    {
     "data": {
      "text/plain": [
       "Text(0.5, 1.0, 'Ages 20+ with higher level of education are our biggest audience ')"
      ]
     },
     "execution_count": 6,
     "metadata": {},
     "output_type": "execute_result"
    },
    {
     "data": {
      "image/png": "[encoded data removed]",
      "text/plain": [
       "<Figure size 432x288 with 1 Axes>"
      ]
     },
     "metadata": {
      "needs_background": "light"
     },
     "output_type": "display_data"
    }
   ],
   "source": [
    "ax = sns.stripplot(x=\"Sample_Size\", y=\"Age\", hue=\"Education\", data=tobacco_use, jitter=True)\n",
    "ax.set_title('Ages 20+ with higher level of education are our biggest audience ')"
   ]
  },
  {
   "cell_type": "markdown",
   "metadata": {},
   "source": [
    "Our biggest target audience are people that are beyond their highschool years and are still studying. They seem to have the most pressure on themselves to perform and achieve great things in life. They are just starting out in their career lives and starting to become real adults."
   ]
  },
  {
   "cell_type": "markdown",
   "metadata": {},
   "source": [
    "# ML Analysis"
   ]
  },
  {
   "cell_type": "markdown",
   "metadata": {},
   "source": []
  },
  {
   "cell_type": "markdown",
   "metadata": {},
   "source": [
    "# Reflection"
   ]
  },
  {
   "cell_type": "markdown",
   "metadata": {},
   "source": []
  },
  {
   "cell_type": "markdown",
   "metadata": {},
   "source": [
    "# Next Steps"
   ]
  },
  {
   "cell_type": "markdown",
   "metadata": {},
   "source": []
  }
 ],
 "metadata": {
  "kernelspec": {
   "display_name": "Python 3",
   "language": "python",
   "name": "python3"
  },
  "language_info": {
   "codemirror_mode": {
    "name": "ipython",
    "version": 3
   },
   "file_extension": ".py",
   "mimetype": "text/x-python",
   "name": "python",
   "nbconvert_exporter": "python",
   "pygments_lexer": "ipython3",
   "version": "3.7.1"
  }
 },
 "nbformat": 4,
 "nbformat_minor": 2
}
